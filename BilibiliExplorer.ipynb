{
 "cells": [
  {
   "cell_type": "code",
   "execution_count": 1,
   "metadata": {},
   "outputs": [],
   "source": [
    "import requests\n",
    "import json\n",
    "import logging\n",
    "import re"
   ]
  },
  {
   "cell_type": "code",
   "execution_count": 2,
   "metadata": {},
   "outputs": [],
   "source": [
    "def bilibili_headers(referer=None, cookie=None):\n",
    "    # 请求消息的头部，模拟浏览器的行为访问Bilibili网站，否则访问会被拒绝\n",
    "    #HTTP Referer是header的一部分，当浏览器向web服务器发送请求的时候，一般会带上Referer，告诉服务器我是从哪个页面链接过来的，服务器基此可以获得一些信息用于处理。\n",
    "    ua = 'Mozilla/5.0 (Macintosh; Intel Mac OS X 10_12_6) AppleWebKit/537.36 (KHTML, like Gecko) Chrome/63.0.3239.84 Safari/537.36'\n",
    "    headers = {'User-Agent': ua}\n",
    "    if referer is not None:\n",
    "        headers.update({'Referer': referer})\n",
    "    if cookie is not None:\n",
    "        headers.update({'Cookie': cookie})\n",
    "    return headers"
   ]
  },
  {
   "cell_type": "code",
   "execution_count": 3,
   "metadata": {},
   "outputs": [],
   "source": [
    "def get_content(url, headers={}, decoded=True):\n",
    "    \"获取网页html源代码\"\n",
    "    data = None\n",
    "    session = requests.Session()\n",
    "    try:\n",
    "        response = session.get(url, headers=headers,verify=False)\n",
    "    except:\n",
    "        raise\n",
    "    else:\n",
    "        data = response.text\n",
    "    return data"
   ]
  },
  {
   "cell_type": "code",
   "execution_count": 9,
   "metadata": {},
   "outputs": [],
   "source": [
    "def match1(text, *patterns):\n",
    "    \"根据patters（正则表达式）提取text中视频信息\"\n",
    "    if len(patterns) == 1:\n",
    "        pattern = patterns[0]\n",
    "        match = re.search(pattern, text)\n",
    "        if match:\n",
    "            return match.group(1)\n",
    "        else:\n",
    "            return None\n",
    "    else:\n",
    "        ret = []\n",
    "        for pattern in patterns:\n",
    "            match = re.search(pattern, text)\n",
    "            if match:\n",
    "                ret.append(match.group(1))\n",
    "        return ret"
   ]
  },
  {
   "cell_type": "code",
   "execution_count": 5,
   "metadata": {},
   "outputs": [],
   "source": [
    "stream_types = [\n",
    "        {'id': 'flv_p60', 'quality': 116, 'audio_quality': 30280,\n",
    "         'container': 'FLV', 'video_resolution': '1080p', 'desc': '高清 1080P60'},\n",
    "        # 'id': 'hdflv2', 'quality': 112?\n",
    "        {'id': 'flv', 'quality': 80, 'audio_quality': 30280,\n",
    "         'container': 'FLV', 'video_resolution': '1080p', 'desc': '高清 1080P'},\n",
    "        {'id': 'flv720_p60', 'quality': 74, 'audio_quality': 30280,\n",
    "         'container': 'FLV', 'video_resolution': '720p', 'desc': '高清 720P60'},\n",
    "        {'id': 'flv720', 'quality': 64, 'audio_quality': 30280,\n",
    "         'container': 'FLV', 'video_resolution': '720p', 'desc': '高清 720P'},\n",
    "        {'id': 'hdmp4', 'quality': 48, 'audio_quality': 30280,\n",
    "         'container': 'MP4', 'video_resolution': '720p', 'desc': '高清 720P (MP4)'},\n",
    "        {'id': 'flv480', 'quality': 32, 'audio_quality': 30280,\n",
    "         'container': 'FLV', 'video_resolution': '480p', 'desc': '清晰 480P'},\n",
    "        {'id': 'flv360', 'quality': 16, 'audio_quality': 30216,\n",
    "         'container': 'FLV', 'video_resolution': '360p', 'desc': '流畅 360P'},\n",
    "        # 'quality': 15?\n",
    "        {'id': 'mp4', 'quality': 0},\n",
    "    ]"
   ]
  },
  {
   "cell_type": "code",
   "execution_count": 109,
   "metadata": {},
   "outputs": [
    {
     "name": "stderr",
     "output_type": "stream",
     "text": [
      "c:\\users\\asus\\appdata\\local\\programs\\python\\python36\\lib\\site-packages\\urllib3\\connectionpool.py:847: InsecureRequestWarning: Unverified HTTPS request is being made. Adding certificate verification is strongly advised. See: https://urllib3.readthedocs.io/en/latest/advanced-usage.html#ssl-warnings\n",
      "  InsecureRequestWarning)\n"
     ]
    }
   ],
   "source": [
    "url = \"https://www.bilibili.com/video/av54636007\"\n",
    "html_content = get_content(url, headers=bilibili_headers())\n",
    "#html_content"
   ]
  },
  {
   "cell_type": "code",
   "execution_count": 11,
   "metadata": {},
   "outputs": [],
   "source": [
    "initial_state_text = match1(html_content,r'__INITIAL_STATE__=(.*?);\\(function\\(\\)')\n",
    "initial_state = json.loads(initial_state_text)\n",
    "playinfo_text = match1(html_content, r'__playinfo__=(.*?)</script><script>')\n",
    "playinfo = json.loads(playinfo_text) if playinfo_text else None"
   ]
  },
  {
   "cell_type": "code",
   "execution_count": 110,
   "metadata": {},
   "outputs": [],
   "source": [
    "#initial_state"
   ]
  },
  {
   "cell_type": "code",
   "execution_count": 43,
   "metadata": {},
   "outputs": [],
   "source": [
    "#initial_state['videoData']\n",
    "#initial_state['videoData']['title']\n",
    "#initial_state['videoData']['videos']\n",
    "#initial_state['videoData']['pages']\n",
    "#initial_state['videoData']['pages'][0]['cid']"
   ]
  },
  {
   "cell_type": "code",
   "execution_count": 45,
   "metadata": {},
   "outputs": [],
   "source": [
    "#cid = initial_state['videoData']['pages'][0]['cid']\n",
    "#response = requests.get('http://comment.bilibili.com/%s.xml' % cid,headers=bilibili_headers())\n",
    "#danmu = response.content.decode()\n",
    "#pattern = r'\\\"\\>(.*?)\\<\\/d\\>'\n",
    "#match = re.findall(pattern, danmu)\n",
    "#match"
   ]
  },
  {
   "cell_type": "code",
   "execution_count": 111,
   "metadata": {},
   "outputs": [],
   "source": [
    "#playinfo"
   ]
  },
  {
   "cell_type": "code",
   "execution_count": 112,
   "metadata": {},
   "outputs": [
    {
     "data": {
      "text/plain": [
       "'\\nfor video in playinfo[\\'data\\'][\\'dash\\'][\\'video\\']:\\n    print(\"-----------------\")\\n    for key in video:\\n        print(\"   \",key,\":\",video[key])\\n'"
      ]
     },
     "execution_count": 112,
     "metadata": {},
     "output_type": "execute_result"
    }
   ],
   "source": [
    "#playinfo['data']\n",
    "#playinfo['data']['quality']\n",
    "#playinfo['data']['accept_quality']\n",
    "#playinfo['data']['accept_description']\n",
    "#playinfo['data']['dash']['video']\n",
    "\"\"\"\n",
    "for video in playinfo['data']['dash']['video']:\n",
    "    print(\"-----------------\")\n",
    "    for key in video:\n",
    "        print(\"   \",key,\":\",video[key])\n",
    "\"\"\"\n"
   ]
  },
  {
   "cell_type": "code",
   "execution_count": 66,
   "metadata": {},
   "outputs": [
    {
     "data": {
      "text/plain": [
       "'\\nfor audio in playinfo[\\'data\\'][\\'dash\\'][\\'audio\\']:\\n    print(\"-----------------\")\\n    for key in audio:\\n        print(\"   \",key,\":\",audio[key])\\n'"
      ]
     },
     "execution_count": 66,
     "metadata": {},
     "output_type": "execute_result"
    }
   ],
   "source": [
    "\"\"\"\n",
    "for audio in playinfo['data']['dash']['audio']:\n",
    "    print(\"-----------------\")\n",
    "    for key in audio:\n",
    "        print(\"   \",key,\":\",audio[key])\n",
    "\"\"\""
   ]
  },
  {
   "cell_type": "code",
   "execution_count": 113,
   "metadata": {},
   "outputs": [
    {
     "data": {
      "text/plain": [
       "'\\nfrom urllib import request\\nfrom urllib.request import urlopen\\nheaders = bilibili_headers(referer = url)\\nresponse = request.Request(\" http://cn-gdfs2-cc-acache-03.acgvideo.com/upgcxcode/21/44/95574421/95574421-1-30033.m4s?e=ig8euxZM2rNcNbKB7bdVhoMM7WTVhwdEto8g5X10ugNcXBlqNxHxNEVE5XREto8KqJZHUa6m5J0SqE85tZvEuENvNC8xNEVE9EKE9IMvXBvE2ENvNCImNEVEK9GVqJIwqa80WXIekXRE9IMvXBvEuENvNCImNEVEua6m2jIxux0CkF6s2JZv5x0DQJZY2F8SkXKE9IB5QK==&deadline=1559924350&gen=playurl&nbs=1&oi=3698564865&os=acache&platform=pc&trid=1d2dda27d9584e868279889c8f6642a6&uipk=5&upsig=c446972eb523e37d4cf9e2b8ec4211aa&uparams=e,deadline,gen,nbs,oi,os,platform,trid,uipk&mid=0\", headers=headers)\\nres = request.urlopen(response)\\nres.headers[\\'content-length\\']\\n'"
      ]
     },
     "execution_count": 113,
     "metadata": {},
     "output_type": "execute_result"
    }
   ],
   "source": [
    "\"\"\"\n",
    "from urllib import request\n",
    "from urllib.request import urlopen\n",
    "headers = bilibili_headers(referer = url)\n",
    "response = request.Request(\" http://cn-gdfs2-cc-acache-03.acgvideo.com/upgcxcode/21/44/95574421/95574421-1-30033.m4s?e=ig8euxZM2rNcNbKB7bdVhoMM7WTVhwdEto8g5X10ugNcXBlqNxHxNEVE5XREto8KqJZHUa6m5J0SqE85tZvEuENvNC8xNEVE9EKE9IMvXBvE2ENvNCImNEVEK9GVqJIwqa80WXIekXRE9IMvXBvEuENvNCImNEVEua6m2jIxux0CkF6s2JZv5x0DQJZY2F8SkXKE9IB5QK==&deadline=1559924350&gen=playurl&nbs=1&oi=3698564865&os=acache&platform=pc&trid=1d2dda27d9584e868279889c8f6642a6&uipk=5&upsig=c446972eb523e37d4cf9e2b8ec4211aa&uparams=e,deadline,gen,nbs,oi,os,platform,trid,uipk&mid=0\", headers=headers)\n",
    "res = request.urlopen(response)\n",
    "res.headers['content-length']\n",
    "\"\"\""
   ]
  },
  {
   "cell_type": "code",
   "execution_count": 122,
   "metadata": {},
   "outputs": [],
   "source": [
    "temp = res.read(1024*256)"
   ]
  }
 ],
 "metadata": {
  "kernelspec": {
   "display_name": "Python 3",
   "language": "python",
   "name": "python3"
  },
  "language_info": {
   "codemirror_mode": {
    "name": "ipython",
    "version": 3
   },
   "file_extension": ".py",
   "mimetype": "text/x-python",
   "name": "python",
   "nbconvert_exporter": "python",
   "pygments_lexer": "ipython3",
   "version": "3.6.7"
  }
 },
 "nbformat": 4,
 "nbformat_minor": 2
}
